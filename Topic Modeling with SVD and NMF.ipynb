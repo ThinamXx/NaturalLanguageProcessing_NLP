{
  "nbformat": 4,
  "nbformat_minor": 0,
  "metadata": {
    "colab": {
      "name": "Topic Modeling with SVD and NMF.ipynb",
      "provenance": []
    },
    "kernelspec": {
      "name": "python3",
      "display_name": "Python 3"
    },
    "accelerator": "GPU"
  },
  "cells": [
    {
      "cell_type": "markdown",
      "metadata": {
        "id": "VsssnNs8OhmD",
        "colab_type": "text"
      },
      "source": [
        "**Initialization**\n",
        "* Setting up the Fastai and other necessary Libraries and Dependencies."
      ]
    },
    {
      "cell_type": "code",
      "metadata": {
        "id": "RnCf5S8lNfzs",
        "colab_type": "code",
        "colab": {}
      },
      "source": [
        "# Initializing the Fastai Environment.\n",
        "# !pip install -Uqq fastbook\n",
        "# import fastbook\n",
        "# fastbook.setup_book()"
      ],
      "execution_count": 2,
      "outputs": []
    },
    {
      "cell_type": "markdown",
      "metadata": {
        "id": "905ii6wLPlZw",
        "colab_type": "text"
      },
      "source": [
        "* I use these 3 lines of code on top of my each notebook because it will help to prevent any problems while reloading or reworking on the Project or Problem. And the third line of code helps to make visualization within the Notebook."
      ]
    },
    {
      "cell_type": "code",
      "metadata": {
        "id": "nQC-s7SWPYSu",
        "colab_type": "code",
        "colab": {}
      },
      "source": [
        "# Initialization:\n",
        "%reload_ext autoreload\n",
        "%autoreload 2\n",
        "%matplotlib inline"
      ],
      "execution_count": 3,
      "outputs": []
    },
    {
      "cell_type": "markdown",
      "metadata": {
        "id": "dX2sIzPPSle1",
        "colab_type": "text"
      },
      "source": [
        "**Downloading the Dependencies**\n",
        "* I have downloaded all the Libraries and Dependencies required for this Project in one particular cell."
      ]
    },
    {
      "cell_type": "code",
      "metadata": {
        "id": "FvZzHrJJSPwd",
        "colab_type": "code",
        "colab": {}
      },
      "source": [
        "# Importing Libraries and Dependencies\n",
        "import nltk\n",
        "import numpy as np  \n",
        "from sklearn import decomposition\n",
        "from scipy import linalg\n",
        "from IPython.display import display\n",
        "import matplotlib.pyplot as plt\n",
        "\n",
        "from sklearn.feature_extraction.text import CountVectorizer, TfidfVectorizer"
      ],
      "execution_count": 4,
      "outputs": []
    },
    {
      "cell_type": "code",
      "metadata": {
        "id": "VIE8ZmTKMf03",
        "colab_type": "code",
        "colab": {}
      },
      "source": [
        "# !pip install jupyterthemes\n",
        "# from jupyterthemes import jtplot\n",
        "# jtplot.style(theme = \"monokai\", context = \"notebook\", ticks = True, grid = False)"
      ],
      "execution_count": 17,
      "outputs": []
    },
    {
      "cell_type": "markdown",
      "metadata": {
        "id": "8GTEOaLrUIQl",
        "colab_type": "text"
      },
      "source": [
        "**Getting the Data**\n",
        "* Scikit Learn comes with a number of built in Datasets as well as loading utilities to load several standard external datasets. I will be using the Newsgroups Dataset. Here is [Scikit Learn Newsgroups Dataset](https://scikit-learn.org/stable/search.html?q=Newgroup)."
      ]
    },
    {
      "cell_type": "code",
      "metadata": {
        "id": "xFJ0npqwUEAA",
        "colab_type": "code",
        "colab": {}
      },
      "source": [
        "# Importing Newsgroups Dataset.\n",
        "from sklearn.datasets import fetch_20newsgroups"
      ],
      "execution_count": 5,
      "outputs": []
    },
    {
      "cell_type": "markdown",
      "metadata": {
        "id": "tYaLerkOX4mi",
        "colab_type": "text"
      },
      "source": [
        "**Processing the Data**\n",
        "* I have been curious to know the Features present in the Newsgroups Dataset and I found [information about Newsgroups Data](https://scikit-learn.org/stable/datasets/index.html#newsgroups-dataset). From here, I can conclude the Categorical Features present in the [Dataset](https://scikit-learn.org/stable/datasets/index.html#newsgroups-dataset) as well as unnecessary features present in the [Dataset](https://scikit-learn.org/stable/datasets/index.html#newsgroups-dataset)."
      ]
    },
    {
      "cell_type": "code",
      "metadata": {
        "id": "6vdjYu3hXBQm",
        "colab_type": "code",
        "colab": {
          "base_uri": "https://localhost:8080/",
          "height": 34
        },
        "outputId": "54ad7e5f-0f3d-4a9d-cc5d-8e7f1636eb73"
      },
      "source": [
        "# Categorical Data or Features present in the Dataset.\n",
        "categories = [\"alt.atheism\", \"talk.religion.misc\", \"comp.graphics\", \"sci.space\"]\n",
        "\n",
        "# Unnecessary Features or Data present in the Dataset.\n",
        "remove = (\"headers\", \"footers\", \"quotes\")\n",
        "\n",
        "# Data for Training and Testing.\n",
        "newsgroups_train = fetch_20newsgroups(subset=\"train\", categories=categories, remove=remove)               # Training Dataset.\n",
        "newsgroups_test = fetch_20newsgroups(subset=\"test\", categories=categories, remove=remove)                 # Testing Dataset.\n",
        "\n",
        "# Observing the Dataset.\n",
        "f\"Shape of Training Data {newsgroups_train.filenames.shape}\", f\"Shape of Testing Data {newsgroups_test.target.shape}\""
      ],
      "execution_count": 7,
      "outputs": [
        {
          "output_type": "execute_result",
          "data": {
            "text/plain": [
              "('Shape of Training Data (2034,)', 'Shape of Testing Data (1353,)')"
            ]
          },
          "metadata": {
            "tags": []
          },
          "execution_count": 7
        }
      ]
    },
    {
      "cell_type": "markdown",
      "metadata": {
        "id": "JLrgrMxiddu8",
        "colab_type": "text"
      },
      "source": [
        "* **Exploring the Data**"
      ]
    },
    {
      "cell_type": "code",
      "metadata": {
        "id": "y2C_9jbmcqlo",
        "colab_type": "code",
        "colab": {
          "base_uri": "https://localhost:8080/",
          "height": 1000
        },
        "outputId": "92c8ba0e-3431-41f1-b662-9d3324a91f91"
      },
      "source": [
        "# Observing the Data.\n",
        "print(\"\\n\".join(newsgroups_train.data[:4]))"
      ],
      "execution_count": 8,
      "outputs": [
        {
          "output_type": "stream",
          "text": [
            "Hi,\n",
            "\n",
            "I've noticed that if you only save a model (with all your mapping planes\n",
            "positioned carefully) to a .3DS file that when you reload it after restarting\n",
            "3DS, they are given a default position and orientation.  But if you save\n",
            "to a .PRJ file their positions/orientation are preserved.  Does anyone\n",
            "know why this information is not stored in the .3DS file?  Nothing is\n",
            "explicitly said in the manual about saving texture rules in the .PRJ file. \n",
            "I'd like to be able to read the texture rule information, does anyone have \n",
            "the format for the .PRJ file?\n",
            "\n",
            "Is the .CEL file format available from somewhere?\n",
            "\n",
            "Rych\n",
            "\n",
            "\n",
            "Seems to be, barring evidence to the contrary, that Koresh was simply\n",
            "another deranged fanatic who thought it neccessary to take a whole bunch of\n",
            "folks with him, children and all, to satisfy his delusional mania. Jim\n",
            "Jones, circa 1993.\n",
            "\n",
            "\n",
            "Nope - fruitcakes like Koresh have been demonstrating such evil corruption\n",
            "for centuries.\n",
            "\n",
            " >In article <1993Apr19.020359.26996@sq.sq.com>, msb@sq.sq.com (Mark Brader) \n",
            "\n",
            "MB>                                                             So the\n",
            "MB> 1970 figure seems unlikely to actually be anything but a perijove.\n",
            "\n",
            "JG>Sorry, _perijoves_...I'm not used to talking this language.\n",
            "\n",
            "Couldn't we just say periapsis or apoapsis?\n",
            "\n",
            " \n",
            "I have a request for those who would like to see Charley Wingate\n",
            "respond to the \"Charley Challenges\" (and judging from my e-mail, there\n",
            "appear to be quite a few of you.)  \n",
            "\n",
            "It is clear that Mr. Wingate intends to continue to post tangential or\n",
            "unrelated articles while ingoring the Challenges themselves.  Between\n",
            "the last two re-postings of the Challenges, I noted perhaps a dozen or\n",
            "more posts by Mr. Wingate, none of which answered a single Challenge.  \n",
            "\n",
            "It seems unmistakable to me that Mr. Wingate hopes that the questions\n",
            "will just go away, and he is doing his level best to change the\n",
            "subject.  Given that this seems a rather common net.theist tactic, I\n",
            "would like to suggest that we impress upon him our desire for answers,\n",
            "in the following manner:\n",
            "\n",
            "1. Ignore any future articles by Mr. Wingate that do not address the\n",
            "Challenges, until he answers them or explictly announces that he\n",
            "refuses to do so.\n",
            "\n",
            "--or--\n",
            "\n",
            "2. If you must respond to one of his articles, include within it\n",
            "something similar to the following:\n",
            "\n",
            "    \"Please answer the questions posed to you in the Charley Challenges.\"\n",
            "\n",
            "Really, I'm not looking to humiliate anyone here, I just want some\n",
            "honest answers.  You wouldn't think that honesty would be too much to\n",
            "ask from a devout Christian, would you?  \n",
            "\n",
            "Nevermind, that was a rhetorical question.\n"
          ],
          "name": "stdout"
        }
      ]
    },
    {
      "cell_type": "markdown",
      "metadata": {
        "id": "YSLiWCOdgNLl",
        "colab_type": "text"
      },
      "source": [
        "**Stopwords Stemming and Lemmatization**"
      ]
    },
    {
      "cell_type": "markdown",
      "metadata": {
        "id": "9yvWyS5dgpMq",
        "colab_type": "text"
      },
      "source": [
        "* Stopwords : The extremely common words which would appear to be of little value in helping to select the documents matching a user needs are excluded from the vocabulary entirely and these words are called Stopwords."
      ]
    },
    {
      "cell_type": "code",
      "metadata": {
        "id": "XkmZdt6deBIt",
        "colab_type": "code",
        "colab": {
          "base_uri": "https://localhost:8080/",
          "height": 194
        },
        "outputId": "33c9d066-dd5c-48a9-f106-ec64b746cd9f"
      },
      "source": [
        "# Observing the Stopwords\n",
        "from sklearn.feature_extraction import stop_words\n",
        "sorted(list(stop_words.ENGLISH_STOP_WORDS))[:10]                 # Printing the 10 Stopwords."
      ],
      "execution_count": 10,
      "outputs": [
        {
          "output_type": "execute_result",
          "data": {
            "text/plain": [
              "['a',\n",
              " 'about',\n",
              " 'above',\n",
              " 'across',\n",
              " 'after',\n",
              " 'afterwards',\n",
              " 'again',\n",
              " 'against',\n",
              " 'all',\n",
              " 'almost']"
            ]
          },
          "metadata": {
            "tags": []
          },
          "execution_count": 10
        }
      ]
    },
    {
      "cell_type": "markdown",
      "metadata": {
        "id": "DBd4fihGjJMH",
        "colab_type": "text"
      },
      "source": [
        "* Stemming and Lemmatization : Stemming and Lemmatization both generate the root form of words. Stemming and Lemmatization is language dependent."
      ]
    },
    {
      "cell_type": "code",
      "metadata": {
        "id": "M3gazp26kI8G",
        "colab_type": "code",
        "colab": {
          "base_uri": "https://localhost:8080/",
          "height": 52
        },
        "outputId": "5b4c0eb7-36b7-4f67-a0a6-90bc07004e44"
      },
      "source": [
        "# Stemming and Lemmatization:\n",
        "from nltk import stem\n",
        "\n",
        "wnl = stem.WordNetLemmatizer()                          # Word Net Lemmatizer.\n",
        "porter = stem.porter.PorterStemmer()                    # Porter Stemming.\n",
        "\n",
        "# Example:\n",
        "wordlist = [\"organize\", \"organizes\", \"orginizing\"]\n",
        "display([wnl.lemmatize(word) for word in wordlist])     # WordNet Lemmatizer.\n",
        "display([porter.stem(word) for word in wordlist])       # Porter Stemming."
      ],
      "execution_count": 13,
      "outputs": [
        {
          "output_type": "display_data",
          "data": {
            "text/plain": [
              "['organize', 'organizes', 'orginizing']"
            ]
          },
          "metadata": {
            "tags": []
          }
        },
        {
          "output_type": "display_data",
          "data": {
            "text/plain": [
              "['organ', 'organ', 'orgin']"
            ]
          },
          "metadata": {
            "tags": []
          }
        }
      ]
    },
    {
      "cell_type": "markdown",
      "metadata": {
        "id": "eUs-0eO5t2WA",
        "colab_type": "text"
      },
      "source": [
        "**Processing the Data**\n",
        "* I will be using Scikit Learn CountVectorizer and TfidfVectorizer for processing the Data."
      ]
    },
    {
      "cell_type": "code",
      "metadata": {
        "id": "efFS2OCCBNa_",
        "colab_type": "code",
        "colab": {
          "base_uri": "https://localhost:8080/",
          "height": 34
        },
        "outputId": "6ad7ec9a-f5ac-4053-eeee-faf39eb4bc31"
      },
      "source": [
        "# Processing the Data with CountVectorizer and TfidfVectorizer.\n",
        "vectorizer = CountVectorizer(stop_words=\"english\")                         # Count Vectorization.\n",
        "vectors = vectorizer.fit_transform(newsgroups_train.data).todense()\n",
        "vocab = np.array(vectorizer.get_feature_names())\n",
        "\n",
        "# Observing the shape of vectors which is recently obtained.\n",
        "f\"Shape of vectors is {vectors.shape}\", f\"Shape of vocab is {vocab.shape}\""
      ],
      "execution_count": 20,
      "outputs": [
        {
          "output_type": "execute_result",
          "data": {
            "text/plain": [
              "('Shape of vectors is (2034, 26576)', 'Shape of vocab is (26576,)')"
            ]
          },
          "metadata": {
            "tags": []
          },
          "execution_count": 20
        }
      ]
    },
    {
      "cell_type": "markdown",
      "metadata": {
        "id": "pyNYwlCTEmDW",
        "colab_type": "text"
      },
      "source": [
        "**Singular Value Decomposition (SVD)**\n",
        "* The words that appear most frequently in one topic would appear less frequently in the other, otherwise that word wouldn't make a good choice to separate out the two topics. Therefore, the topics are Orthogonal. The SVD algorithm factorizes a matrix into one matrix with orthogonal columns and one with orthogonal rows along with diagonal matrix which contains the relative importance of each factor. SVD is an exact decomposition since the matrices it creates are big enough to fully cover the original matrix. \n",
        "* Basic Implementations:\n",
        "  - Semantic Analysis.\n",
        "  - Collaborative Filtering or Recommendations System.\n",
        "  - Data Compression.\n",
        "  - Principal Component Analysis (PCA)."
      ]
    },
    {
      "cell_type": "code",
      "metadata": {
        "id": "f7cZ_eZLEhSM",
        "colab_type": "code",
        "colab": {
          "base_uri": "https://localhost:8080/",
          "height": 105
        },
        "outputId": "d85b5321-0e0e-4acb-c70b-8daed0bc2fc4"
      },
      "source": [
        "# Singular Value Decomposition(SVD)\n",
        "%time U, s, Vh = linalg.svd(vectors, full_matrices=False)\n",
        "\n",
        "# Observing the result.\n",
        "display(U.shape, s.shape, Vh.shape)"
      ],
      "execution_count": 21,
      "outputs": [
        {
          "output_type": "stream",
          "text": [
            "CPU times: user 1min 29s, sys: 5.92 s, total: 1min 35s\n",
            "Wall time: 49 s\n"
          ],
          "name": "stdout"
        },
        {
          "output_type": "display_data",
          "data": {
            "text/plain": [
              "(2034, 2034)"
            ]
          },
          "metadata": {
            "tags": []
          }
        },
        {
          "output_type": "display_data",
          "data": {
            "text/plain": [
              "(2034,)"
            ]
          },
          "metadata": {
            "tags": []
          }
        },
        {
          "output_type": "display_data",
          "data": {
            "text/plain": [
              "(2034, 26576)"
            ]
          },
          "metadata": {
            "tags": []
          }
        }
      ]
    },
    {
      "cell_type": "markdown",
      "metadata": {
        "id": "9QbxB-kHM7Tk",
        "colab_type": "text"
      },
      "source": [
        "**Observing the Topics**\n",
        "* Observing the Topics using Singular Value Decomposition (SVD)."
      ]
    },
    {
      "cell_type": "code",
      "metadata": {
        "id": "A_EkizNCLkjs",
        "colab_type": "code",
        "colab": {
          "base_uri": "https://localhost:8080/",
          "height": 874
        },
        "outputId": "893c5e0b-5eac-44e6-c662-c88f30c05b6e"
      },
      "source": [
        "# Plotting the s.\n",
        "plt.plot(s)\n",
        "plt.figure()\n",
        "\n",
        "# Plotting only certain values of s.\n",
        "plt.plot(s[:10])"
      ],
      "execution_count": 22,
      "outputs": [
        {
          "output_type": "execute_result",
          "data": {
            "text/plain": [
              "[<matplotlib.lines.Line2D at 0x7f1d4c5509e8>]"
            ]
          },
          "metadata": {
            "tags": []
          },
          "execution_count": 22
        },
        {
          "output_type": "display_data",
          "data": {
            "image/png": "[encoded data removed]",
            "text/plain": [
              "<Figure size 576x504 with 1 Axes>"
            ]
          },
          "metadata": {
            "tags": []
          }
        },
        {
          "output_type": "display_data",
          "data": {
            "image/png": "[encoded data removed]",
            "text/plain": [
              "<Figure size 576x504 with 1 Axes>"
            ]
          },
          "metadata": {
            "tags": []
          }
        }
      ]
    },
    {
      "cell_type": "code",
      "metadata": {
        "id": "oLF8DFsENXwi",
        "colab_type": "code",
        "colab": {
          "base_uri": "https://localhost:8080/",
          "height": 187
        },
        "outputId": "141df6be-fe8c-442b-d056-79711de9f190"
      },
      "source": [
        "# Observing the Topics using SVD.\n",
        "num_words = 10                                                              # Maximum number of words in each Topics.\n",
        "def show_topics(a):\n",
        "  \"\"\" Showing the topics using orthogonal columns and orthogonal rows. \"\"\"\n",
        "  top_words = lambda x: [vocab[i] for i in np.argsort(x)[:-num_words-1:-1]]\n",
        "  topic_words = [top_words(b) for b in a]\n",
        "  return [\" \".join(t) for t in topic_words]\n",
        "\n",
        "# Observing the topics obtained.\n",
        "show_topics(Vh[:10])                                                        # Obtaining the 10 Topics from the Data."
      ],
      "execution_count": 23,
      "outputs": [
        {
          "output_type": "execute_result",
          "data": {
            "text/plain": [
              "['ditto critus propagandist surname galacticentric kindergarten surreal imaginative salvadorans autotheism',\n",
              " 'jpeg gif file color quality image jfif format bit version',\n",
              " 'graphics edu pub mail 128 3d ray ftp send image',\n",
              " 'jesus god matthew people atheists atheism does graphics religious said',\n",
              " 'image data processing analysis software available tools display tool user',\n",
              " 'god atheists atheism religious believe religion argument true atheist example',\n",
              " 'space nasa lunar mars probe moon missions probes surface earth',\n",
              " 'image probe surface lunar mars probes moon orbit mariner mission',\n",
              " 'argument fallacy conclusion example true ad argumentum premises false valid',\n",
              " 'space larson image theory universe physical nasa material star unified']"
            ]
          },
          "metadata": {
            "tags": []
          },
          "execution_count": 23
        }
      ]
    },
    {
      "cell_type": "markdown",
      "metadata": {
        "id": "laJY0D9SU__S",
        "colab_type": "text"
      },
      "source": [
        "**NonNegative Matrix Factorization (NMF)**\n",
        "* Non Negative Matrix Factorization (NMF) is a factorization or constrain of non negative dataset. NMF is non exact factorization that factors into one short positive matrix. Implementations of NMF :\n",
        "  - Face Decompositions.\n",
        "  - Collaborative Filtering or Movie Recommendations.\n",
        "  - Audio Source Separation."
      ]
    },
    {
      "cell_type": "code",
      "metadata": {
        "id": "swVJp9LbRYw3",
        "colab_type": "code",
        "colab": {
          "base_uri": "https://localhost:8080/",
          "height": 102
        },
        "outputId": "b5de704a-f0ab-4ecf-99e6-6cf447438266"
      },
      "source": [
        "# Implemenation of  NMF in Topic Modeling.\n",
        "num = 5                                                     # Number of Topics.\n",
        "\n",
        "clf = decomposition.NMF(n_components=num, random_state=1)   # Instantiating NMF.\n",
        "W1 = clf.fit_transform(vectors)                             # Implementation NMF.\n",
        "H1 = clf.components_\n",
        "\n",
        "# Observing the Topics.\n",
        "show_topics(H1)"
      ],
      "execution_count": 24,
      "outputs": [
        {
          "output_type": "execute_result",
          "data": {
            "text/plain": [
              "['jpeg image gif file color images format quality version files',\n",
              " 'edu graphics pub mail 128 ray ftp send 3d com',\n",
              " 'space launch satellite nasa commercial satellites year market data earth',\n",
              " 'jesus god people matthew atheists does atheism said just believe',\n",
              " 'image data available software processing ftp edu analysis images display']"
            ]
          },
          "metadata": {
            "tags": []
          },
          "execution_count": 24
        }
      ]
    },
    {
      "cell_type": "markdown",
      "metadata": {
        "id": "pslJNvvBZ4Gd",
        "colab_type": "text"
      },
      "source": [
        "**Topic Frequency Inverse Document Frequency (TFIDF)**\n",
        "* TFIDF is a way to normalize the term counts by taking into account how often they appear in a document and how long the document is and how common or rare the document is."
      ]
    },
    {
      "cell_type": "code",
      "metadata": {
        "id": "QuZDM8Goe1nS",
        "colab_type": "code",
        "colab": {
          "base_uri": "https://localhost:8080/",
          "height": 224
        },
        "outputId": "362e880c-6440-4576-f750-aef4f37a27c3"
      },
      "source": [
        "# Observing the Data.\n",
        "newsgroups_train.data[10:21]"
      ],
      "execution_count": 33,
      "outputs": [
        {
          "output_type": "execute_result",
          "data": {
            "text/plain": [
              "[\"a\\n\\nWhat about positional uncertainties in S-L 1993e?   I assume we know where\\nand what Galileo is doing within a few meters.   But without the\\nHGA,  don't we have to have some pretty good ideas, of where to look\\nbefore imaging?  If the HGA was working,  they could slew around\\nin near real time (Less speed of light delay).  But when they were\\nimaging toutatis????  didn't someone have to get lucky on a guess to\\nfind the first images?   \\n\\nAlso, I imagine S-L 1993e will be mostly a visual image.  so how will\\nthat affect the other imaging missions.  with the LGA,  there is a real\\ntight allocation of bandwidth.   It may be premature to hope for answers,\\nbut I thought i'd throw it on the floor.\",\n",
              " \"I would like to program Tseng ET4000 to nonstandard 1024x768 mode by\\nswitching to standard 1024x768 mode using BIOS and than changing some\\ntiming details (0x3D4 registers 0x00-0x1F) but I don't know how to\\nselect 36 MHz pixel clock I need. The BIOS function selects 40 MHz.\\n\\nIs there anybody who knows where to obtain technical info about this.\\nI am also interested in any other technical information about Tseng ET4000\\nand Trident 8900 and 9000 chipsets.\\n\\n\\t\\t\\tthanks very much\",\n",
              " 'In-Reply-To: <20APR199312262902@rigel.tamu.edu> lmp8913@rigel.tamu.edu (PRESTON, LISA M)',\n",
              " \"\\n\\n\\n\\nI'm not sure, but it almost sounds like they can't figure out where the \\n_nucleus_ is within the coma. If they're off by a couple hundred\\nmiles, well, you can imagine the rest...\\n\",\n",
              " \"Hello,\\n     I am looking to add voice input capability to a user interface I am\\ndeveloping on an HP730 (UNIX) workstation.  I would greatly appreciate \\ninformation anyone would care to offer about voice input systems that are \\neasily accessible from the UNIX environment. \\n\\n     The names or adresses of applicable vendors, as well as any \\nexperiences you have had with specific systems, would be very helpful.\\n\\n     Please respond via email; I will post a summary if there is \\nsufficient interest.\\n\\n\\nThanks,\\nKen\\n\\n\\nP.S.  I have found several impressive systems for IBM PC's, but I would \\nlike to avoid the hassle of purchasing and maintaining a separate PC if \\nat all possible.\\n\\n-------------------------------------------------------------------------------\\nKen Hinckley (kph2q@virginia.edu)\\nUniversity of Virginia \\nNeurosurgical Visualization Laboratory\",\n",
              " '\\nIt was a test of the first reusable tool.\\n\\n\\nPointy so they can find them or so they will stick into their pants better, and\\nbe closer to their brains?',\n",
              " '\\nSize of armies, duration, numbers of casualties both absolute and as a\\npercentage of those involved, geographical area and numbers of countries\\ntoo, are all measures of size.  In this case I\\'d say the relevant\\nstatistic would be the number of combatants (total troops) compared to\\ntotal casualties from among the total civilian population in the\\naffected geographical area.\\n\\n\\nVietnam and Korea might make good comparisons.\\n\\n\\nWestern news in general, but in particular the American \"mass media\":\\nCBS, NBC, ABC, etc.  The general tone of the news during the whole\\nwar was one of \"those poor, poor Iraqis\" along with \"look how precisely\\nthis cruise missile blew this building to bits\".\\n\\n\\nI agree.\\n\\n\\nPerhaps so.  And maybe the atomic bomb was a mistake too.  But that\\'s easy\\nto say from our \"enlightened\" viewpoint here in the 90\\'s, right?  Back\\nthen, it was *all-out* war, and Germany and Japan had to be squashed.\\nAfter all, a million or more British had already died, hundreds of \\nthousands of French, a couple hundread thousand or so Americans, and \\nmillions of Russians, not to mention a few million Jews, Poles, and \\nother people of slavic descent in German concentration camps.  All \\nthings considered, the fire-bombings and the atomic bomb were\\nessential (and therefore justified) in bringing the war to a quick\\nend to avoid even greater allied losses.\\n\\nI, for one, don\\'t regret it.\\n\\n\\nSure.  And it\\'s the people who suffer because of them.  All the more\\nreason to depose these \"entrenched political rulers operating in their\\nown selfish interests\"!  Or do you mean that this applies to the allies\\nas well??\\n\\n\\nI make no claim or effort to justify the misguided foreign policy of the\\nWest before the war.  It is evident that the West, especially America,\\nmisjudged Hussein drastically.  But once Hussein invaded Kuwait and \\nthreatened to militarily corner a significant portion of the world\\'s\\noil supply, he had to be stopped.  Sure the war could have been\\nprevented by judicious and concerted effort on the part of the West\\nbefore Hussein invaded Kuwait, but it is still *Hussein* who is\\nresponsible for his decision to invade.  And once he did so, a\\nstrong response from the West was required.\\n\\n\\nWell, it\\'s not very \"loving\" to allow a Hussein or a Hitler to gobble up\\nnearby countries and keep them.  Or to allow them to continue with mass\\nslaughter of certain peoples under their dominion.  So, I\\'d have to\\nsay yes, stopping Hussein was the most \"loving\" thing to do for the\\nmost people involved once he set his mind on military conquest.\\n\\nI mentioned it.\\n\\nIf we hadn\\'t intervened, allowing Hussein to keep Kuwait, then it would\\nhave been appeasement.  It is precisely the lessons the world learned\\nin WW2 that motivated the Western alliance to war.  Letting Hitler take\\nAustria and Czechoslavkia did not stop WW2 from happening, and letting\\nHussein keep Kuwait would not have stopped an eventual Gulf War to\\nprotect Saudi Arabia.\\n\\n\\nSure.  What was truly unfortunate was that they followed Hitler in\\nhis grandiose quest for a \"Thousand Year Reich\".  The consequences\\nstemmed from that.\\n\\nWhat should I say about them?  Anything in particular?\\n\\n\\n\\nSo?  It was the *policemen* on trial not Rodney King!!  And under American\\nlaw they deserved a jury of *their* peers!  If there had been black\\nofficers involved, I\\'m sure their would have been black jurors too.\\nThis point (of allegedly racial motivations) is really shallow.\\n\\n\\nSo?  It\\'s \"hard to imagine\"?  So when has Argument from Incredulity\\ngained acceptance from the revered author of \"Constructing a Logical\\nArgument\"?  Can we expect another revision soon??  :)  (Just kidding.)\\n\\n\\nI have to admit that I wonder this too.  But *neither* the prosecution\\nnor the defense is talking.  So one cannot conclude either way due to\\nthe silence of the principals.  \\n\\n\\nOK.  It certainly seemed to me that there was excessive force involved.\\nAnd frankly, the original \"not guilty\" verdict baffled me too.  But then\\nI learned that the prosecution in the first case did not try to convict\\non a charge of excessive force or simple assault which they probably\\nwould have won, they tried to get a conviction on a charge of aggravated\\nassault with intent to inflict serious bodily harm.  A charge, which\\nnews commentators said, was akin to attempted murder under California\\nlaw.  Based on what the prosecution was asking for, it\\'s evident that \\nthe first jury decided that the officers were \"not guilty\".  Note, \\nnot \"not guilty\" of doing wrong, but \"not guilty\" of aggravated assault \\nwith the *intent* of inflicting serious bodily harm.  The seeds of the \\nprosecutions defeat were in their own overconfidence in obtaining a \\nverdict such that they went for the most extreme charge they could.\\n\\nIf the facts as the news commentators presented them are true, then\\nI feel the \"not guilty\" verdict was a reasonable one.\\n\\n\\nThanks mathew, I like the quote.  Pretty funny actually.  (I\\'m a \\nMonty Python fan, you know.  Kind of seems in that vein.)\\n\\nOf course, oversimplifying any moral argument can make it seem\\ncontradictory.  But then, you know that already.  \\n\\nRegards,',\n",
              " \"<stuff deleted>\\n\\nYou mean like: seconds, minutes, hours, days, months, years. . .  :-)\\n\\nRemember,  the Fahrenheit temperature scale is also a centigrade scale.  Some\\nrevisionists tell the history something like this:  The coldest point in a\\nparticular Russian winter was marked on the thermometer as was the body\\ntemperature of a volunteer (turns out he was sick, but you can't win 'em all).\\nThen the space in between the marks on the thermometer was then divided into\\nhundredths.\\n\\t\\t\\t\\t\\t\\t\\t\\t:-)\\n\\nFWIW,\\n\\nDoug Page\\n\",\n",
              " \"\\nIt wasn't especially prominent, as I recall.  However, quite possibly it's\\nno longer on display; NASM, like most museums, has much more stuff than it\\ncan display at once, and does rotate the displays occasionally.\",\n",
              " \"DM> Fact or rumor....?  Madalyn Murray O'Hare an atheist who eliminated the\\nDM> use of the bible reading and prayer in public schools 15 years ago is now\\nDM> going to appear before the FCC with a petition to stop the reading of the\\nDM> Gospel on the airways of America.  And she is also campaigning to remove\\nDM> Christmas programs, songs, etc from the public schools.  If it is true\\nDM> then mail to Federal Communications Commission 1919 H Street Washington DC\\nDM> 20054 expressing your opposition to her request.  Reference Petition number\\n\\nDM> 2493.\\n\\nFalse.  This story has been going around for years.  There's not a drop of\\ntruth.  Note that I don't care for O'Hare (O'Hair?) myself, but this\\nis one thing she's not guilty of.\\n\",\n",
              " \"\\n\\n\\nIf by that you mean anything on the GD approach, there was an article on\\nit in a recent Avation Week. I don't remember the exact date but it was\\nrecent.\\n\\n Allen\\n\"]"
            ]
          },
          "metadata": {
            "tags": []
          },
          "execution_count": 33
        }
      ]
    },
    {
      "cell_type": "code",
      "metadata": {
        "id": "Idl0yrU8YBPM",
        "colab_type": "code",
        "colab": {
          "base_uri": "https://localhost:8080/",
          "height": 102
        },
        "outputId": "3653f468-26c5-4fe3-db1a-b65c703e0532"
      },
      "source": [
        "# Implementation of TFIDF.\n",
        "vectorizer_tfidf = TfidfVectorizer(stop_words=\"english\")\n",
        "vectors_tfidf = vectorizer_tfidf.fit_transform(newsgroups_train.data)\n",
        "\n",
        "# Implementation of NMF with TFIDF.\n",
        "W1 = clf.fit_transform(vectors_tfidf)\n",
        "H1 = clf.components_\n",
        "\n",
        "# Observing the Finalized Topics.\n",
        "show_topics(H1)"
      ],
      "execution_count": 25,
      "outputs": [
        {
          "output_type": "execute_result",
          "data": {
            "text/plain": [
              "['people don think just like objective say morality know moral',\n",
              " 'graphics thanks files image file program windows know format ftp',\n",
              " 'space nasa launch shuttle orbit moon lunar earth station data',\n",
              " 'ico bobbe tek beauchaine bronx manhattan sank queens vice blew',\n",
              " 'god jesus bible believe christian atheism does belief faith christians']"
            ]
          },
          "metadata": {
            "tags": []
          },
          "execution_count": 25
        }
      ]
    },
    {
      "cell_type": "code",
      "metadata": {
        "id": "uNDZ8ASXcAfW",
        "colab_type": "code",
        "colab": {
          "base_uri": "https://localhost:8080/",
          "height": 454
        },
        "outputId": "331ba958-45f3-41ac-c6e5-c417ac5c00b6"
      },
      "source": [
        "# Plotting the Results.\n",
        "plt.plot(clf.components_[0])"
      ],
      "execution_count": 26,
      "outputs": [
        {
          "output_type": "execute_result",
          "data": {
            "text/plain": [
              "[<matplotlib.lines.Line2D at 0x7f1d407946d8>]"
            ]
          },
          "metadata": {
            "tags": []
          },
          "execution_count": 26
        },
        {
          "output_type": "display_data",
          "data": {
            "image/png": "[encoded data removed]",
            "text/plain": [
              "<Figure size 576x504 with 1 Axes>"
            ]
          },
          "metadata": {
            "tags": []
          }
        }
      ]
    },
    {
      "cell_type": "markdown",
      "metadata": {
        "id": "xv9GRV_hdU3V",
        "colab_type": "text"
      },
      "source": [
        "**Timing Comparison**\n",
        "* Randomized SVD from Facebook Library fbca."
      ]
    },
    {
      "cell_type": "code",
      "metadata": {
        "id": "QFzU1mXodY8K",
        "colab_type": "code",
        "colab": {
          "base_uri": "https://localhost:8080/",
          "height": 51
        },
        "outputId": "7b362f7a-4192-4854-df93-6eacadb56a70"
      },
      "source": [
        "# Implementation of fbca.\n",
        "# !pip install fbpca\n",
        "import fbpca\n",
        "%time U, s, Vh = fbpca.pca(vectors, 10)"
      ],
      "execution_count": 32,
      "outputs": [
        {
          "output_type": "stream",
          "text": [
            "CPU times: user 2.57 s, sys: 497 ms, total: 3.07 s\n",
            "Wall time: 1.66 s\n"
          ],
          "name": "stdout"
        }
      ]
    }
  ]
}